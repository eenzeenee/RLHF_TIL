{
  "cells": [
    {
      "cell_type": "code",
      "execution_count": 6,
      "metadata": {
        "colab": {
          "base_uri": "https://localhost:8080/"
        },
        "id": "3wfLDzyy405M",
        "outputId": "22748a85-9dea-4b43-cbd3-e784856e5561"
      },
      "outputs": [
        {
          "output_type": "stream",
          "name": "stdout",
          "text": [
            "Requirement already satisfied: torchrl in /usr/local/lib/python3.10/dist-packages (0.1.1)\n",
            "Requirement already satisfied: torch in /usr/local/lib/python3.10/dist-packages (from torchrl) (2.0.1+cu118)\n",
            "Requirement already satisfied: numpy in /usr/local/lib/python3.10/dist-packages (from torchrl) (1.23.5)\n",
            "Requirement already satisfied: packaging in /usr/local/lib/python3.10/dist-packages (from torchrl) (23.1)\n",
            "Requirement already satisfied: cloudpickle in /usr/local/lib/python3.10/dist-packages (from torchrl) (2.2.1)\n",
            "Requirement already satisfied: tensordict>=0.1.1 in /usr/local/lib/python3.10/dist-packages (from torchrl) (0.1.2)\n",
            "Requirement already satisfied: filelock in /usr/local/lib/python3.10/dist-packages (from torch->torchrl) (3.12.2)\n",
            "Requirement already satisfied: typing-extensions in /usr/local/lib/python3.10/dist-packages (from torch->torchrl) (4.7.1)\n",
            "Requirement already satisfied: sympy in /usr/local/lib/python3.10/dist-packages (from torch->torchrl) (1.12)\n",
            "Requirement already satisfied: networkx in /usr/local/lib/python3.10/dist-packages (from torch->torchrl) (3.1)\n",
            "Requirement already satisfied: jinja2 in /usr/local/lib/python3.10/dist-packages (from torch->torchrl) (3.1.2)\n",
            "Requirement already satisfied: triton==2.0.0 in /usr/local/lib/python3.10/dist-packages (from torch->torchrl) (2.0.0)\n",
            "Requirement already satisfied: cmake in /usr/local/lib/python3.10/dist-packages (from triton==2.0.0->torch->torchrl) (3.27.2)\n",
            "Requirement already satisfied: lit in /usr/local/lib/python3.10/dist-packages (from triton==2.0.0->torch->torchrl) (16.0.6)\n",
            "Requirement already satisfied: MarkupSafe>=2.0 in /usr/local/lib/python3.10/dist-packages (from jinja2->torch->torchrl) (2.1.3)\n",
            "Requirement already satisfied: mpmath>=0.19 in /usr/local/lib/python3.10/dist-packages (from sympy->torch->torchrl) (1.3.0)\n",
            "Requirement already satisfied: gym[mujoco] in /usr/local/lib/python3.10/dist-packages (0.25.2)\n",
            "Requirement already satisfied: numpy>=1.18.0 in /usr/local/lib/python3.10/dist-packages (from gym[mujoco]) (1.23.5)\n",
            "Requirement already satisfied: cloudpickle>=1.2.0 in /usr/local/lib/python3.10/dist-packages (from gym[mujoco]) (2.2.1)\n",
            "Requirement already satisfied: gym-notices>=0.0.4 in /usr/local/lib/python3.10/dist-packages (from gym[mujoco]) (0.0.8)\n",
            "Requirement already satisfied: mujoco==2.2.0 in /usr/local/lib/python3.10/dist-packages (from gym[mujoco]) (2.2.0)\n",
            "Requirement already satisfied: imageio>=2.14.1 in /usr/local/lib/python3.10/dist-packages (from gym[mujoco]) (2.31.1)\n",
            "Requirement already satisfied: absl-py in /usr/local/lib/python3.10/dist-packages (from mujoco==2.2.0->gym[mujoco]) (1.4.0)\n",
            "Requirement already satisfied: glfw in /usr/local/lib/python3.10/dist-packages (from mujoco==2.2.0->gym[mujoco]) (2.6.2)\n",
            "Requirement already satisfied: pyopengl in /usr/local/lib/python3.10/dist-packages (from mujoco==2.2.0->gym[mujoco]) (3.1.7)\n",
            "Requirement already satisfied: pillow>=8.3.2 in /usr/local/lib/python3.10/dist-packages (from imageio>=2.14.1->gym[mujoco]) (9.4.0)\n",
            "Requirement already satisfied: tqdm in /usr/local/lib/python3.10/dist-packages (4.66.1)\n"
          ]
        }
      ],
      "source": [
        "!pip3 install torchrl\n",
        "!pip3 install gym[mujoco]\n",
        "!pip3 install tqdm"
      ]
    },
    {
      "cell_type": "code",
      "execution_count": 7,
      "metadata": {
        "id": "hb8gdXpV49ey"
      },
      "outputs": [],
      "source": [
        "from collections import defaultdict\n",
        "\n",
        "import matplotlib.pyplot as plt\n",
        "import torch\n",
        "from tensordict.nn import TensorDictModule\n",
        "from tensordict.nn.distributions import NormalParamExtractor\n",
        "from torch import nn\n",
        "from torchrl.collectors import SyncDataCollector\n",
        "from torchrl.data.replay_buffers import ReplayBuffer\n",
        "from torchrl.data.replay_buffers.samplers import SamplerWithoutReplacement\n",
        "from torchrl.data.replay_buffers.storages import LazyTensorStorage\n",
        "from torchrl.envs import (Compose, DoubleToFloat, ObservationNorm, StepCounter,\n",
        "                          TransformedEnv)\n",
        "from torchrl.envs.libs.gym import GymEnv\n",
        "from torchrl.envs.utils import check_env_specs, set_exploration_mode\n",
        "from torchrl.modules import ProbabilisticActor, TanhNormal, ValueOperator\n",
        "from torchrl.objectives import ClipPPOLoss\n",
        "from torchrl.objectives.value import GAE\n",
        "from tqdm import tqdm"
      ]
    },
    {
      "cell_type": "code",
      "source": [
        "# 하이퍼 파라미터 정의\n",
        "\n",
        "device = \"cpu\" if not torch.has_cuda else \"cuda:0\"\n",
        "num_cells = 256  # number of cells in each layer i.e. output dim.\n",
        "lr = 3e-4\n",
        "max_grad_norm = 1.0"
      ],
      "metadata": {
        "id": "6XLhdQwF76Rb"
      },
      "execution_count": 8,
      "outputs": []
    },
    {
      "cell_type": "code",
      "source": [
        "# 데이터 수집 매개변수\n",
        "\n",
        "frame_skip = 1\n",
        "# 동일한 동작을 여러번 반복하는 것이 동작을 더 일관되고 덜 불규칙하게 만들기 때문에 유익할 수 있음\n",
        "# 그러나 많은 frame을 skip할 경우, 변화 관찰에 대한 반응성을 감소시키기 때문에 모델 학습을 방해할 수 있음\n",
        "\n",
        "## frame_skip을 사용할 때 다른 프레임 수를 함께 그룹화하는 프레임 수로 수정하는 것이 좋음\n",
        "frames_per_batch = 1000 // frame_skip\n",
        "# 전체 교육을 위해 frame 개수를 최대 1m개까지 가져옴\n",
        "total_frames = 50_000 // frame_skip"
      ],
      "metadata": {
        "id": "DNWf8Q9q7898"
      },
      "execution_count": 9,
      "outputs": []
    },
    {
      "cell_type": "code",
      "source": [
        "# PPO 매개변수\n",
        "\n",
        "## 각 데이터 collection에서 특정 epoch에 걸쳐 optimization 진행\n",
        "## nested training loop에서 획득한 전체 데이터 소비\n",
        "## sub_batch_size != frames_per_batch\n",
        "## frames_per_batch에 의해 크기가 정해진 collector에서 나오는 data batch로 작업\n",
        "## inner training loop 동안 더 작은 sub batch로 추가 분할 -> sub_batch_size로 크기 조절\n",
        "\n",
        "sub_batch_size = 64  # cardinality of the sub-samples gathered from the current data in the inner loop\n",
        "num_epochs = 10  # optimization steps per batch of data collected\n",
        "clip_epsilon = (\n",
        "    0.2  # clip value for PPO loss: see the equation in the intro for more context.\n",
        ")\n",
        "gamma = 0.99\n",
        "lmbda = 0.95\n",
        "entropy_eps = 1e-4"
      ],
      "metadata": {
        "id": "P6BffK2s8AUR"
      },
      "execution_count": 10,
      "outputs": []
    },
    {
      "cell_type": "code",
      "source": [
        "# 환경 정의\n",
        "## gym.make(env_name, **kwargs)를 통해 직접 환경 정의 가능\n",
        "\n",
        "base_env = GymEnv(\"InvertedDoublePendulum-v4\", device=device, frame_skip=frame_skip)\n",
        "\n",
        "### 우리만의 task를 진행하기 위해 어떻게 환경을 정의해야하지..?"
      ],
      "metadata": {
        "id": "wiPIuWX98N2r"
      },
      "execution_count": 12,
      "outputs": []
    },
    {
      "cell_type": "code",
      "source": [
        "# 변환 & 표준화\n",
        "\n",
        "## policy에 대한 데이터 준비 위해 환경 변환 진행\n",
        "## TransformedEnv 통해 변환 추가 가능\n",
        "\n",
        "## 정규화 변환 : ObservationNorm\n",
        "## Double 형태를 policy에서 읽을 수 있는 Float으로 변환 : DoubleToFloat\n",
        "## 환경 종료 전 step 계산 위해 : StepCounter 활용\n",
        "### TensorDict 중 'observation' 키에 해당하는 데이터만 변환하도록 : in_keys = ['observation']\n",
        "\n",
        "env = TransformedEnv(\n",
        "    base_env,\n",
        "    Compose(\n",
        "        # normalize observations\n",
        "        ObservationNorm(in_keys=[\"observation\"]),\n",
        "        DoubleToFloat(in_keys=[\"observation\"]),\n",
        "        StepCounter(),\n",
        "    ),\n",
        ")"
      ],
      "metadata": {
        "id": "tdsZ0vXA-DPX"
      },
      "execution_count": 13,
      "outputs": []
    },
    {
      "cell_type": "code",
      "source": [
        "env.transform[0].init_stats(num_iter=1000, reduce_dim=0, cat_dim=0)"
      ],
      "metadata": {
        "id": "46cw14Qu_AnK"
      },
      "execution_count": 14,
      "outputs": []
    },
    {
      "cell_type": "code",
      "source": [
        "# do a little sanity check\n",
        "print(\"normalization constant shape:\", env.transform[0].loc.shape)"
      ],
      "metadata": {
        "colab": {
          "base_uri": "https://localhost:8080/"
        },
        "id": "MBHogcAE_C2_",
        "outputId": "47050b74-2eaa-43d4-9928-736e8917d04a"
      },
      "execution_count": 15,
      "outputs": [
        {
          "output_type": "stream",
          "name": "stdout",
          "text": [
            "normalization constant shape: torch.Size([11])\n"
          ]
        }
      ]
    },
    {
      "cell_type": "code",
      "source": [
        "print(\"observation_spec:\", env.observation_spec) # environment에서 action 수행 시 기대되는 실행\n",
        "print(\"reward_spec:\", env.reward_spec) # reward 도메인\n",
        "print(\"input_spec:\", env.input_spec) # environment가 각 single step 실행시 필요한 모든 것\n",
        "print(\"action_spec (as defined by input_spec):\", env.action_spec)"
      ],
      "metadata": {
        "colab": {
          "base_uri": "https://localhost:8080/"
        },
        "id": "FOHWfUpf_IIH",
        "outputId": "5140c4e0-4d08-45ef-a9b8-32d956a5a31e"
      },
      "execution_count": 16,
      "outputs": [
        {
          "output_type": "stream",
          "name": "stdout",
          "text": [
            "observation_spec: CompositeSpec(\n",
            "    observation: UnboundedContinuousTensorSpec(\n",
            "         shape=torch.Size([11]), space=None, device=cuda:0, dtype=torch.float32, domain=continuous),\n",
            "    step_count: UnboundedDiscreteTensorSpec(\n",
            "         shape=torch.Size([1]), space=ContinuousBox(minimum=Tensor(shape=torch.Size([1]), device=cuda:0, dtype=torch.int64, contiguous=True), maximum=Tensor(shape=torch.Size([1]), device=cuda:0, dtype=torch.int64, contiguous=True)), device=cuda:0, dtype=torch.int64, domain=continuous), device=cuda:0, shape=torch.Size([]))\n",
            "reward_spec: UnboundedContinuousTensorSpec(\n",
            "     shape=torch.Size([1]), space=ContinuousBox(minimum=Tensor(shape=torch.Size([]), device=cpu, dtype=torch.float32, contiguous=True), maximum=Tensor(shape=torch.Size([]), device=cpu, dtype=torch.float32, contiguous=True)), device=cuda:0, dtype=torch.float32, domain=continuous)\n",
            "input_spec: CompositeSpec(\n",
            "    action: BoundedTensorSpec(\n",
            "         shape=torch.Size([1]), space=ContinuousBox(minimum=Tensor(shape=torch.Size([1]), device=cuda:0, dtype=torch.float32, contiguous=True), maximum=Tensor(shape=torch.Size([1]), device=cuda:0, dtype=torch.float32, contiguous=True)), device=cuda:0, dtype=torch.float32, domain=continuous),\n",
            "    step_count: UnboundedDiscreteTensorSpec(\n",
            "         shape=torch.Size([1]), space=ContinuousBox(minimum=Tensor(shape=torch.Size([1]), device=cuda:0, dtype=torch.int64, contiguous=True), maximum=Tensor(shape=torch.Size([1]), device=cuda:0, dtype=torch.int64, contiguous=True)), device=cuda:0, dtype=torch.int64, domain=continuous), device=cuda:0, shape=torch.Size([]))\n",
            "action_spec (as defined by input_spec): BoundedTensorSpec(\n",
            "     shape=torch.Size([1]), space=ContinuousBox(minimum=Tensor(shape=torch.Size([1]), device=cuda:0, dtype=torch.float32, contiguous=True), maximum=Tensor(shape=torch.Size([1]), device=cuda:0, dtype=torch.float32, contiguous=True)), device=cuda:0, dtype=torch.float32, domain=continuous)\n"
          ]
        }
      ]
    },
    {
      "cell_type": "code",
      "source": [
        "# 환경 잘 정의되었는지 check\n",
        "check_env_specs(env)"
      ],
      "metadata": {
        "colab": {
          "base_uri": "https://localhost:8080/"
        },
        "id": "SDF0nRcL_Nfe",
        "outputId": "e629a528-31cf-44a2-c1e4-2116a3e4027d"
      },
      "execution_count": 17,
      "outputs": [
        {
          "output_type": "stream",
          "name": "stdout",
          "text": [
            "check_env_specs succeeded!\n"
          ]
        }
      ]
    },
    {
      "cell_type": "code",
      "source": [
        "# 각 단계에서 action을 입력으로 받아 observation, reward, done state 반환\n",
        "# observations : 하나 이상의 tensor로 구성될 수 있음\n",
        "\n",
        "rollout = env.rollout(3)\n",
        "print(\"rollout of three steps:\", rollout)\n",
        "print(\"Shape of the rollout TensorDict:\", rollout.batch_size)"
      ],
      "metadata": {
        "colab": {
          "base_uri": "https://localhost:8080/"
        },
        "id": "l0b2HL8H_n5W",
        "outputId": "5ddf54f0-985a-4b9b-99df-bb329b74a6b8"
      },
      "execution_count": 18,
      "outputs": [
        {
          "output_type": "stream",
          "name": "stdout",
          "text": [
            "rollout of three steps: TensorDict(\n",
            "    fields={\n",
            "        action: Tensor(shape=torch.Size([3, 1]), device=cuda:0, dtype=torch.float32, is_shared=True),\n",
            "        done: Tensor(shape=torch.Size([3, 1]), device=cuda:0, dtype=torch.bool, is_shared=True),\n",
            "        next: TensorDict(\n",
            "            fields={\n",
            "                done: Tensor(shape=torch.Size([3, 1]), device=cuda:0, dtype=torch.bool, is_shared=True),\n",
            "                observation: Tensor(shape=torch.Size([3, 11]), device=cuda:0, dtype=torch.float32, is_shared=True),\n",
            "                reward: Tensor(shape=torch.Size([3, 1]), device=cuda:0, dtype=torch.float32, is_shared=True),\n",
            "                step_count: Tensor(shape=torch.Size([3, 1]), device=cuda:0, dtype=torch.int64, is_shared=True)},\n",
            "            batch_size=torch.Size([3]),\n",
            "            device=cuda:0,\n",
            "            is_shared=True),\n",
            "        observation: Tensor(shape=torch.Size([3, 11]), device=cuda:0, dtype=torch.float32, is_shared=True),\n",
            "        step_count: Tensor(shape=torch.Size([3, 1]), device=cuda:0, dtype=torch.int64, is_shared=True)},\n",
            "    batch_size=torch.Size([3]),\n",
            "    device=cuda:0,\n",
            "    is_shared=True)\n",
            "Shape of the rollout TensorDict: torch.Size([3])\n"
          ]
        }
      ]
    },
    {
      "cell_type": "code",
      "source": [
        "rollout['next']['observation']"
      ],
      "metadata": {
        "colab": {
          "base_uri": "https://localhost:8080/"
        },
        "id": "jm0TRR9y_rc4",
        "outputId": "e7ef312d-ab10-49b0-dc5a-4cdd0c7d7358"
      },
      "execution_count": 31,
      "outputs": [
        {
          "output_type": "execute_result",
          "data": {
            "text/plain": [
              "tensor([[-0.0872, -0.1599, -0.2040,  0.6881,  0.7174,  0.6203, -0.5235,  0.4671,\n",
              "          0.0000,  0.0000,  0.0000],\n",
              "        [ 0.3227, -0.5674,  0.1731,  0.4700,  0.6756,  1.0458, -0.9786,  0.9426,\n",
              "          0.0000,  0.0000,  0.0000],\n",
              "        [ 0.6873, -0.9578,  0.5544,  0.0441,  0.4510,  0.4399, -0.5222,  0.5678,\n",
              "          0.0000,  0.0000,  0.0000]], device='cuda:0')"
            ]
          },
          "metadata": {},
          "execution_count": 31
        }
      ]
    },
    {
      "cell_type": "code",
      "source": [
        "rollout['next']['reward']"
      ],
      "metadata": {
        "colab": {
          "base_uri": "https://localhost:8080/"
        },
        "id": "XYr4DM9fAKGh",
        "outputId": "78a059f2-c28b-44d6-92b2-6f653d8d13a8"
      },
      "execution_count": 32,
      "outputs": [
        {
          "output_type": "execute_result",
          "data": {
            "text/plain": [
              "tensor([[9.3255],\n",
              "        [9.2464],\n",
              "        [9.2712]], device='cuda:0')"
            ]
          },
          "metadata": {},
          "execution_count": 32
        }
      ]
    },
    {
      "cell_type": "code",
      "source": [
        "# Policy\n",
        "\n",
        "actor_net = nn.Sequential(\n",
        "    nn.LazyLinear(num_cells, device=device),\n",
        "    nn.Tanh(),\n",
        "    nn.LazyLinear(num_cells, device=device),\n",
        "    nn.Tanh(),\n",
        "    nn.LazyLinear(num_cells, device=device),\n",
        "    nn.Tanh(),\n",
        "    nn.LazyLinear(2 * env.action_spec.shape[-1], device=device),\n",
        "    NormalParamExtractor(),\n",
        ")"
      ],
      "metadata": {
        "colab": {
          "base_uri": "https://localhost:8080/"
        },
        "id": "Fmge5c5zAeSv",
        "outputId": "8fa8d37f-c5f6-4806-a708-ce7d7955c754"
      },
      "execution_count": 33,
      "outputs": [
        {
          "output_type": "stream",
          "name": "stderr",
          "text": [
            "/usr/local/lib/python3.10/dist-packages/torch/nn/modules/lazy.py:180: UserWarning: Lazy modules are a new feature under heavy development so changes to the API or functionality can happen at any moment.\n",
            "  warnings.warn('Lazy modules are a new feature under heavy development '\n"
          ]
        }
      ]
    },
    {
      "cell_type": "code",
      "source": [
        "# 정책이 tensordict 데이터 운반책을 통해 환경과 대화할 수 있도록\n",
        "## nn.Module 내의 TensorDictModule로 데이터 포장\n",
        "\n",
        "policy_module = TensorDictModule(\n",
        "    actor_net, in_keys=[\"observation\"], out_keys=[\"loc\", \"scale\"]\n",
        ")"
      ],
      "metadata": {
        "id": "0Ehqvm0HBsjB"
      },
      "execution_count": 35,
      "outputs": []
    },
    {
      "cell_type": "code",
      "source": [
        "policy_module = ProbabilisticActor(\n",
        "    module=policy_module,\n",
        "    spec=env.action_spec,\n",
        "    in_keys=[\"loc\", \"scale\"],\n",
        "    distribution_class=TanhNormal,\n",
        "    distribution_kwargs={\n",
        "        \"min\": env.action_spec.space.minimum,\n",
        "        \"max\": env.action_spec.space.maximum, # 환경 사양에서 수집한 분포의 최소 최대 활용\n",
        "    },\n",
        "    return_log_prob=True,\n",
        "    # we'll need the log-prob for the numerator of the importance weights\n",
        ")"
      ],
      "metadata": {
        "id": "sQ1agMxnCHf6"
      },
      "execution_count": 36,
      "outputs": []
    },
    {
      "cell_type": "code",
      "source": [
        "# Value network\n",
        "## observation 내용을 읽고 다음 trajectory에 대한 discounted return 추정치 반환\n",
        "## 훈련 중 즉석에서 학습되는 일부 utility 추정에 의존하여 학습 양도(?) 가능\n",
        "value_net = nn.Sequential(\n",
        "    nn.LazyLinear(num_cells, device=device),\n",
        "    nn.Tanh(),\n",
        "    nn.LazyLinear(num_cells, device=device),\n",
        "    nn.Tanh(),\n",
        "    nn.LazyLinear(num_cells, device=device),\n",
        "    nn.Tanh(),\n",
        "    nn.LazyLinear(1, device=device),\n",
        ")\n",
        "\n",
        "value_module = ValueOperator(\n",
        "    module=value_net,\n",
        "    in_keys=[\"observation\"],\n",
        ")"
      ],
      "metadata": {
        "id": "nT7xftttB-bk"
      },
      "execution_count": 37,
      "outputs": []
    },
    {
      "cell_type": "code",
      "source": [
        "print(\"Running policy:\", policy_module(env.reset()))\n",
        "print(\"Running value:\", value_module(env.reset()))"
      ],
      "metadata": {
        "colab": {
          "base_uri": "https://localhost:8080/"
        },
        "id": "893sewJhCqzP",
        "outputId": "0de1474b-585e-4a4b-d716-143332049dfe"
      },
      "execution_count": 38,
      "outputs": [
        {
          "output_type": "stream",
          "name": "stdout",
          "text": [
            "Running policy: TensorDict(\n",
            "    fields={\n",
            "        action: Tensor(shape=torch.Size([1]), device=cuda:0, dtype=torch.float32, is_shared=True),\n",
            "        done: Tensor(shape=torch.Size([1]), device=cuda:0, dtype=torch.bool, is_shared=True),\n",
            "        loc: Tensor(shape=torch.Size([1]), device=cuda:0, dtype=torch.float32, is_shared=True),\n",
            "        observation: Tensor(shape=torch.Size([11]), device=cuda:0, dtype=torch.float32, is_shared=True),\n",
            "        sample_log_prob: Tensor(shape=torch.Size([]), device=cuda:0, dtype=torch.float32, is_shared=True),\n",
            "        scale: Tensor(shape=torch.Size([1]), device=cuda:0, dtype=torch.float32, is_shared=True),\n",
            "        step_count: Tensor(shape=torch.Size([1]), device=cuda:0, dtype=torch.int64, is_shared=True)},\n",
            "    batch_size=torch.Size([]),\n",
            "    device=cuda:0,\n",
            "    is_shared=True)\n",
            "Running value: TensorDict(\n",
            "    fields={\n",
            "        done: Tensor(shape=torch.Size([1]), device=cuda:0, dtype=torch.bool, is_shared=True),\n",
            "        observation: Tensor(shape=torch.Size([11]), device=cuda:0, dtype=torch.float32, is_shared=True),\n",
            "        state_value: Tensor(shape=torch.Size([1]), device=cuda:0, dtype=torch.float32, is_shared=True),\n",
            "        step_count: Tensor(shape=torch.Size([1]), device=cuda:0, dtype=torch.int64, is_shared=True)},\n",
            "    batch_size=torch.Size([]),\n",
            "    device=cuda:0,\n",
            "    is_shared=True)\n"
          ]
        }
      ]
    },
    {
      "cell_type": "code",
      "source": [
        "# Data Collector\n",
        "## 환경 설정\n",
        "## 최신 observation이 주어진 action 계산\n",
        "## 환경에서 step 실행\n",
        "\n",
        "collector = SyncDataCollector( # 주어진 길이의 data batch를 가져올 때 활용\n",
        "    env,\n",
        "    policy_module,\n",
        "    frames_per_batch=frames_per_batch, # 수집할 프레임 수 정의\n",
        "    total_frames=total_frames, # 총 프레임 수가 total_frames가 되면 수집 종료\n",
        "    split_trajs=False,\n",
        "    device=device,\n",
        ")\n"
      ],
      "metadata": {
        "id": "Hypke3IfCrCx"
      },
      "execution_count": 39,
      "outputs": []
    },
    {
      "cell_type": "code",
      "source": [
        "# Replay buffer\n",
        "## off-policy 강화학습 알고리즘의 공통 구성 요소\n",
        "## 버퍼의 구성요소 (storage, writer, sampler 등)를 인수로 취하는 공통 컨테이너를 통해 구축됨\n",
        "## storage만이 필수 인수\n",
        "\n",
        "# replay buffer를 활용하는 것은 필수가 아님\n",
        "# 수집된 batch에서 sub batch를 간단히 샘플링할 수 있으나\n",
        "# 이 클래스를 활용하면 재현 가능한 방식으로 inner training loop 구축 가능\n",
        "\n",
        "replay_buffer = ReplayBuffer(\n",
        "    storage=LazyTensorStorage(frames_per_batch),\n",
        "    sampler=SamplerWithoutReplacement(),\n",
        ")"
      ],
      "metadata": {
        "id": "PJH15fmWDGOH"
      },
      "execution_count": 40,
      "outputs": []
    },
    {
      "cell_type": "code",
      "source": [
        "# 손실 함수\n",
        "\n",
        "## PPO 손실을 TorchRL에서 직접 가져올 수 있음 (ClipPPOLoss)\n",
        "\n",
        "advantage_module = GAE( # tensordict신규 \"advantage\"및 \"value_target\"항목으로 입력을 업데이트\n",
        "    gamma=gamma, lmbda=lmbda, value_network=value_module, average_gae=True\n",
        ")\n",
        "\n",
        "loss_module = ClipPPOLoss(\n",
        "    actor=policy_module,\n",
        "    critic=value_module,\n",
        "    advantage_key=\"advantage\",\n",
        "    clip_epsilon=clip_epsilon,\n",
        "    entropy_bonus=bool(entropy_eps),\n",
        "    entropy_coef=entropy_eps,\n",
        "    # these keys match by default but we set this for completeness\n",
        "    value_target_key=advantage_module.value_target_key,\n",
        "    # \"value_target\" : 네트워크가 입력 관찰로 나타내야 하는 경험적 값을 나타내는 기울기가 없는 텐서\n",
        "    critic_coef=1.0,\n",
        "    gamma=0.99,\n",
        "    loss_critic_type=\"smooth_l1\",\n",
        ")\n",
        "\n",
        "## 가치 손실, 정책 손실 모두 반환\n",
        "\n",
        "optim = torch.optim.Adam(loss_module.parameters(), lr)\n",
        "scheduler = torch.optim.lr_scheduler.CosineAnnealingLR(\n",
        "    optim, total_frames // frames_per_batch, 0.0\n",
        ")"
      ],
      "metadata": {
        "colab": {
          "base_uri": "https://localhost:8080/"
        },
        "id": "rvIGzl8sDlZK",
        "outputId": "ba106d79-26d1-4dcf-e304-2ce8edf48648"
      },
      "execution_count": 41,
      "outputs": [
        {
          "output_type": "stream",
          "name": "stderr",
          "text": [
            "/usr/local/lib/python3.10/dist-packages/torchrl/objectives/ppo.py:163: DeprecationWarning: Passing gamma / lambda parameters through the loss constructor is deprecated and will be removed soon. To customize your value function, run `loss_module.make_value_estimator(ValueEstimators.<value_fun>, gamma=val)`.\n",
            "  warnings.warn(_GAMMA_LMBDA_DEPREC_WARNING, category=DeprecationWarning)\n"
          ]
        }
      ]
    },
    {
      "cell_type": "code",
      "source": [
        "# training loop\n",
        "\n",
        "logs = defaultdict(list)\n",
        "pbar = tqdm(total=total_frames * frame_skip)\n",
        "eval_str = \"\"\n",
        "\n",
        "# We iterate over the collector until it reaches the total number of frames it was\n",
        "# designed to collect:\n",
        "for i, tensordict_data in enumerate(collector):\n",
        "    # we now have a batch of data to work with. Let's learn something from it.\n",
        "    for _ in range(num_epochs):\n",
        "        # We'll need an \"advantage\" signal to make PPO work.\n",
        "        # We re-compute it at each epoch as its value depends on the value\n",
        "        # network which is updated in the inner loop.\n",
        "        advantage_module(tensordict_data)\n",
        "        data_view = tensordict_data.reshape(-1)\n",
        "        replay_buffer.extend(data_view.cpu())\n",
        "        for _ in range(frames_per_batch // sub_batch_size):\n",
        "            subdata = replay_buffer.sample(sub_batch_size)\n",
        "            loss_vals = loss_module(subdata.to(device))\n",
        "            loss_value = (\n",
        "                loss_vals[\"loss_objective\"]\n",
        "                + loss_vals[\"loss_critic\"]\n",
        "                + loss_vals[\"loss_entropy\"]\n",
        "            )\n",
        "\n",
        "            # Optimization: backward, grad clipping and optimization step\n",
        "            loss_value.backward()\n",
        "            # this is not strictly mandatory but it's good practice to keep\n",
        "            # your gradient norm bounded\n",
        "            torch.nn.utils.clip_grad_norm_(loss_module.parameters(), max_grad_norm)\n",
        "            optim.step()\n",
        "            optim.zero_grad()\n",
        "\n",
        "    logs[\"reward\"].append(tensordict_data[\"next\", \"reward\"].mean().item())\n",
        "    pbar.update(tensordict_data.numel() * frame_skip)\n",
        "    cum_reward_str = (\n",
        "        f\"average reward={logs['reward'][-1]: 4.4f} (init={logs['reward'][0]: 4.4f})\"\n",
        "    )\n",
        "    logs[\"step_count\"].append(tensordict_data[\"step_count\"].max().item())\n",
        "    stepcount_str = f\"step count (max): {logs['step_count'][-1]}\"\n",
        "    logs[\"lr\"].append(optim.param_groups[0][\"lr\"])\n",
        "    lr_str = f\"lr policy: {logs['lr'][-1]: 4.4f}\"\n",
        "    if i % 10 == 0:\n",
        "        # We evaluate the policy once every 10 batches of data.\n",
        "        # Evaluation is rather simple: execute the policy without exploration\n",
        "        # (take the expected value of the action distribution) for a given\n",
        "        # number of steps (1000, which is our ``env`` horizon).\n",
        "        # The ``rollout`` method of the ``env`` can take a policy as argument:\n",
        "        # it will then execute this policy at each step.\n",
        "        with set_exploration_mode(\"mean\"), torch.no_grad():\n",
        "            # execute a rollout with the trained policy\n",
        "            eval_rollout = env.rollout(1000, policy_module)\n",
        "            logs[\"eval reward\"].append(eval_rollout[\"next\", \"reward\"].mean().item())\n",
        "            logs[\"eval reward (sum)\"].append(\n",
        "                eval_rollout[\"next\", \"reward\"].sum().item()\n",
        "            )\n",
        "            logs[\"eval step_count\"].append(eval_rollout[\"step_count\"].max().item())\n",
        "            eval_str = (\n",
        "                f\"eval cumulative reward: {logs['eval reward (sum)'][-1]: 4.4f} \"\n",
        "                f\"(init: {logs['eval reward (sum)'][0]: 4.4f}), \"\n",
        "                f\"eval step-count: {logs['eval step_count'][-1]}\"\n",
        "            )\n",
        "            del eval_rollout\n",
        "    pbar.set_description(\", \".join([eval_str, cum_reward_str, stepcount_str, lr_str]))\n",
        "\n",
        "    # We're also using a learning rate scheduler. Like the gradient clipping,\n",
        "    # this is a nice-to-have but nothing necessary for PPO to work.\n",
        "    scheduler.step()"
      ],
      "metadata": {
        "colab": {
          "base_uri": "https://localhost:8080/"
        },
        "id": "PI1BMRFdD3bF",
        "outputId": "2fea3073-396b-488b-b0ee-08142a02d15d"
      },
      "execution_count": 43,
      "outputs": [
        {
          "output_type": "stream",
          "name": "stderr",
          "text": [
            "\n",
            "  0%|          | 0/50000 [00:13<?, ?it/s]\n",
            "\n",
            "  2%|▏         | 1000/50000 [00:06<05:15, 155.28it/s]\u001b[A/usr/local/lib/python3.10/dist-packages/tensordict/nn/probabilistic.py:79: DeprecationWarning: set_interaction_mode is deprecated for naming clarity. Please use set_interaction_type with InteractionType enum instead.\n",
            "  _insert_interaction_mode_deprecation_warning(\"set_\")\n",
            "\n",
            "eval cumulative reward:  101.5317 (init:  101.5317), eval step-count: 10, average reward= 9.0900 (init= 9.0900), step count (max): 10, lr policy:  0.0003:   2%|▏         | 1000/50000 [00:06<05:15, 155.28it/s]\u001b[A\n",
            "eval cumulative reward:  101.5317 (init:  101.5317), eval step-count: 10, average reward= 9.0900 (init= 9.0900), step count (max): 10, lr policy:  0.0003:   2%|▏         | 1000/50000 [00:16<05:15, 155.28it/s]\u001b[A\n",
            "eval cumulative reward:  101.5317 (init:  101.5317), eval step-count: 10, average reward= 9.0900 (init= 9.0900), step count (max): 10, lr policy:  0.0003:   4%|▍         | 2000/50000 [00:19<08:03, 99.35it/s] \u001b[A\n",
            "eval cumulative reward:  101.5317 (init:  101.5317), eval step-count: 10, average reward= 9.1144 (init= 9.0900), step count (max): 14, lr policy:  0.0003:   4%|▍         | 2000/50000 [00:19<08:03, 99.35it/s]\u001b[A\n",
            "eval cumulative reward:  101.5317 (init:  101.5317), eval step-count: 10, average reward= 9.1144 (init= 9.0900), step count (max): 14, lr policy:  0.0003:   6%|▌         | 3000/50000 [00:26<07:00, 111.88it/s]\u001b[A\n",
            "eval cumulative reward:  101.5317 (init:  101.5317), eval step-count: 10, average reward= 9.1551 (init= 9.0900), step count (max): 17, lr policy:  0.0003:   6%|▌         | 3000/50000 [00:26<07:00, 111.88it/s]\u001b[A\n",
            "eval cumulative reward:  101.5317 (init:  101.5317), eval step-count: 10, average reward= 9.1551 (init= 9.0900), step count (max): 17, lr policy:  0.0003:   8%|▊         | 4000/50000 [00:32<06:04, 126.32it/s]\u001b[A\n",
            "eval cumulative reward:  101.5317 (init:  101.5317), eval step-count: 10, average reward= 9.1772 (init= 9.0900), step count (max): 18, lr policy:  0.0003:   8%|▊         | 4000/50000 [00:33<06:04, 126.32it/s]\u001b[A\n",
            "eval cumulative reward:  101.5317 (init:  101.5317), eval step-count: 10, average reward= 9.1772 (init= 9.0900), step count (max): 18, lr policy:  0.0003:  10%|█         | 5000/50000 [00:38<05:15, 142.51it/s]\u001b[A\n",
            "eval cumulative reward:  101.5317 (init:  101.5317), eval step-count: 10, average reward= 9.2014 (init= 9.0900), step count (max): 22, lr policy:  0.0003:  10%|█         | 5000/50000 [00:38<05:15, 142.51it/s]\u001b[A\n",
            "eval cumulative reward:  101.5317 (init:  101.5317), eval step-count: 10, average reward= 9.2014 (init= 9.0900), step count (max): 22, lr policy:  0.0003:  12%|█▏        | 6000/50000 [00:44<04:56, 148.24it/s]\u001b[A\n",
            "eval cumulative reward:  101.5317 (init:  101.5317), eval step-count: 10, average reward= 9.2255 (init= 9.0900), step count (max): 30, lr policy:  0.0003:  12%|█▏        | 6000/50000 [00:44<04:56, 148.24it/s]\u001b[A\n",
            "eval cumulative reward:  101.5317 (init:  101.5317), eval step-count: 10, average reward= 9.2255 (init= 9.0900), step count (max): 30, lr policy:  0.0003:  14%|█▍        | 7000/50000 [00:50<04:31, 158.38it/s]\u001b[A\n",
            "eval cumulative reward:  101.5317 (init:  101.5317), eval step-count: 10, average reward= 9.2341 (init= 9.0900), step count (max): 26, lr policy:  0.0003:  14%|█▍        | 7000/50000 [00:50<04:31, 158.38it/s]\u001b[A\n",
            "eval cumulative reward:  101.5317 (init:  101.5317), eval step-count: 10, average reward= 9.2341 (init= 9.0900), step count (max): 26, lr policy:  0.0003:  16%|█▌        | 8000/50000 [00:56<04:22, 160.24it/s]\u001b[A\n",
            "eval cumulative reward:  101.5317 (init:  101.5317), eval step-count: 10, average reward= 9.2422 (init= 9.0900), step count (max): 37, lr policy:  0.0003:  16%|█▌        | 8000/50000 [00:56<04:22, 160.24it/s]\u001b[A\n",
            "eval cumulative reward:  101.5317 (init:  101.5317), eval step-count: 10, average reward= 9.2422 (init= 9.0900), step count (max): 37, lr policy:  0.0003:  18%|█▊        | 9000/50000 [01:01<04:05, 167.24it/s]\u001b[A\n",
            "eval cumulative reward:  101.5317 (init:  101.5317), eval step-count: 10, average reward= 9.2471 (init= 9.0900), step count (max): 39, lr policy:  0.0003:  18%|█▊        | 9000/50000 [01:01<04:05, 167.24it/s]\u001b[A\n",
            "eval cumulative reward:  101.5317 (init:  101.5317), eval step-count: 10, average reward= 9.2471 (init= 9.0900), step count (max): 39, lr policy:  0.0003:  20%|██        | 10000/50000 [01:07<04:03, 164.23it/s]\u001b[A\n",
            "eval cumulative reward:  101.5317 (init:  101.5317), eval step-count: 10, average reward= 9.2544 (init= 9.0900), step count (max): 44, lr policy:  0.0003:  20%|██        | 10000/50000 [01:07<04:03, 164.23it/s]\u001b[A\n",
            "eval cumulative reward:  101.5317 (init:  101.5317), eval step-count: 10, average reward= 9.2544 (init= 9.0900), step count (max): 44, lr policy:  0.0003:  22%|██▏       | 11000/50000 [01:13<03:49, 169.73it/s]\u001b[A\n",
            "eval cumulative reward:  249.4487 (init:  101.5317), eval step-count: 26, average reward= 9.2566 (init= 9.0900), step count (max): 53, lr policy:  0.0003:  22%|██▏       | 11000/50000 [01:13<03:49, 169.73it/s]\u001b[A\n",
            "eval cumulative reward:  249.4487 (init:  101.5317), eval step-count: 26, average reward= 9.2566 (init= 9.0900), step count (max): 53, lr policy:  0.0003:  24%|██▍       | 12000/50000 [01:19<03:47, 166.70it/s]\u001b[A\n",
            "eval cumulative reward:  249.4487 (init:  101.5317), eval step-count: 26, average reward= 9.2535 (init= 9.0900), step count (max): 51, lr policy:  0.0003:  24%|██▍       | 12000/50000 [01:19<03:47, 166.70it/s]\u001b[A\n",
            "eval cumulative reward:  249.4487 (init:  101.5317), eval step-count: 26, average reward= 9.2535 (init= 9.0900), step count (max): 51, lr policy:  0.0003:  26%|██▌       | 13000/50000 [01:25<03:38, 169.27it/s]\u001b[A\n",
            "eval cumulative reward:  249.4487 (init:  101.5317), eval step-count: 26, average reward= 9.2666 (init= 9.0900), step count (max): 61, lr policy:  0.0003:  26%|██▌       | 13000/50000 [01:25<03:38, 169.27it/s]\u001b[A\n",
            "eval cumulative reward:  249.4487 (init:  101.5317), eval step-count: 26, average reward= 9.2666 (init= 9.0900), step count (max): 61, lr policy:  0.0003:  28%|██▊       | 14000/50000 [01:31<03:39, 163.81it/s]\u001b[A\n",
            "eval cumulative reward:  249.4487 (init:  101.5317), eval step-count: 26, average reward= 9.2656 (init= 9.0900), step count (max): 53, lr policy:  0.0003:  28%|██▊       | 14000/50000 [01:31<03:39, 163.81it/s]\u001b[A\n",
            "eval cumulative reward:  249.4487 (init:  101.5317), eval step-count: 26, average reward= 9.2656 (init= 9.0900), step count (max): 53, lr policy:  0.0003:  30%|███       | 15000/50000 [01:37<03:27, 168.59it/s]\u001b[A\n",
            "eval cumulative reward:  249.4487 (init:  101.5317), eval step-count: 26, average reward= 9.2710 (init= 9.0900), step count (max): 61, lr policy:  0.0002:  30%|███       | 15000/50000 [01:37<03:27, 168.59it/s]\u001b[A\n",
            "eval cumulative reward:  249.4487 (init:  101.5317), eval step-count: 26, average reward= 9.2710 (init= 9.0900), step count (max): 61, lr policy:  0.0002:  32%|███▏      | 16000/50000 [01:43<03:22, 167.78it/s]\u001b[A\n",
            "eval cumulative reward:  249.4487 (init:  101.5317), eval step-count: 26, average reward= 9.2669 (init= 9.0900), step count (max): 52, lr policy:  0.0002:  32%|███▏      | 16000/50000 [01:43<03:22, 167.78it/s]\u001b[A\n",
            "eval cumulative reward:  249.4487 (init:  101.5317), eval step-count: 26, average reward= 9.2669 (init= 9.0900), step count (max): 52, lr policy:  0.0002:  34%|███▍      | 17000/50000 [01:48<03:10, 172.90it/s]\u001b[A\n",
            "eval cumulative reward:  249.4487 (init:  101.5317), eval step-count: 26, average reward= 9.2763 (init= 9.0900), step count (max): 81, lr policy:  0.0002:  34%|███▍      | 17000/50000 [01:48<03:10, 172.90it/s]\u001b[A\n",
            "eval cumulative reward:  249.4487 (init:  101.5317), eval step-count: 26, average reward= 9.2763 (init= 9.0900), step count (max): 81, lr policy:  0.0002:  36%|███▌      | 18000/50000 [01:54<03:01, 176.31it/s]\u001b[A\n",
            "eval cumulative reward:  249.4487 (init:  101.5317), eval step-count: 26, average reward= 9.2774 (init= 9.0900), step count (max): 50, lr policy:  0.0002:  36%|███▌      | 18000/50000 [01:54<03:01, 176.31it/s]\u001b[A\n",
            "eval cumulative reward:  249.4487 (init:  101.5317), eval step-count: 26, average reward= 9.2774 (init= 9.0900), step count (max): 50, lr policy:  0.0002:  38%|███▊      | 19000/50000 [01:59<02:57, 174.85it/s]\u001b[A\n",
            "eval cumulative reward:  249.4487 (init:  101.5317), eval step-count: 26, average reward= 9.2800 (init= 9.0900), step count (max): 68, lr policy:  0.0002:  38%|███▊      | 19000/50000 [02:00<02:57, 174.85it/s]\u001b[A\n",
            "eval cumulative reward:  249.4487 (init:  101.5317), eval step-count: 26, average reward= 9.2800 (init= 9.0900), step count (max): 68, lr policy:  0.0002:  40%|████      | 20000/50000 [02:05<02:47, 179.53it/s]\u001b[A\n",
            "eval cumulative reward:  249.4487 (init:  101.5317), eval step-count: 26, average reward= 9.2910 (init= 9.0900), step count (max): 83, lr policy:  0.0002:  40%|████      | 20000/50000 [02:05<02:47, 179.53it/s]\u001b[A\n",
            "eval cumulative reward:  249.4487 (init:  101.5317), eval step-count: 26, average reward= 9.2910 (init= 9.0900), step count (max): 83, lr policy:  0.0002:  42%|████▏     | 21000/50000 [02:11<02:45, 175.47it/s]\u001b[A\n",
            "eval cumulative reward:  268.4128 (init:  101.5317), eval step-count: 28, average reward= 9.2801 (init= 9.0900), step count (max): 64, lr policy:  0.0002:  42%|████▏     | 21000/50000 [02:11<02:45, 175.47it/s]\u001b[A\n",
            "eval cumulative reward:  268.4128 (init:  101.5317), eval step-count: 28, average reward= 9.2801 (init= 9.0900), step count (max): 64, lr policy:  0.0002:  44%|████▍     | 22000/50000 [02:16<02:36, 178.62it/s]\u001b[A\n",
            "eval cumulative reward:  268.4128 (init:  101.5317), eval step-count: 28, average reward= 9.2795 (init= 9.0900), step count (max): 71, lr policy:  0.0002:  44%|████▍     | 22000/50000 [02:16<02:36, 178.62it/s]\u001b[A\n",
            "eval cumulative reward:  268.4128 (init:  101.5317), eval step-count: 28, average reward= 9.2795 (init= 9.0900), step count (max): 71, lr policy:  0.0002:  46%|████▌     | 23000/50000 [02:22<02:34, 174.42it/s]\u001b[A\n",
            "eval cumulative reward:  268.4128 (init:  101.5317), eval step-count: 28, average reward= 9.2781 (init= 9.0900), step count (max): 75, lr policy:  0.0002:  46%|████▌     | 23000/50000 [02:22<02:34, 174.42it/s]\u001b[A\n",
            "eval cumulative reward:  268.4128 (init:  101.5317), eval step-count: 28, average reward= 9.2781 (init= 9.0900), step count (max): 75, lr policy:  0.0002:  48%|████▊     | 24000/50000 [02:27<02:25, 178.87it/s]\u001b[A\n",
            "eval cumulative reward:  268.4128 (init:  101.5317), eval step-count: 28, average reward= 9.2777 (init= 9.0900), step count (max): 61, lr policy:  0.0002:  48%|████▊     | 24000/50000 [02:27<02:25, 178.87it/s]\u001b[A\n",
            "eval cumulative reward:  268.4128 (init:  101.5317), eval step-count: 28, average reward= 9.2777 (init= 9.0900), step count (max): 61, lr policy:  0.0002:  50%|█████     | 25000/50000 [02:34<02:24, 172.51it/s]\u001b[A\n",
            "eval cumulative reward:  268.4128 (init:  101.5317), eval step-count: 28, average reward= 9.2838 (init= 9.0900), step count (max): 88, lr policy:  0.0002:  50%|█████     | 25000/50000 [02:34<02:24, 172.51it/s]\u001b[A\n",
            "eval cumulative reward:  268.4128 (init:  101.5317), eval step-count: 28, average reward= 9.2838 (init= 9.0900), step count (max): 88, lr policy:  0.0002:  52%|█████▏    | 26000/50000 [02:39<02:15, 177.23it/s]\u001b[A\n",
            "eval cumulative reward:  268.4128 (init:  101.5317), eval step-count: 28, average reward= 9.2811 (init= 9.0900), step count (max): 63, lr policy:  0.0001:  52%|█████▏    | 26000/50000 [02:39<02:15, 177.23it/s]\u001b[A\n",
            "eval cumulative reward:  268.4128 (init:  101.5317), eval step-count: 28, average reward= 9.2811 (init= 9.0900), step count (max): 63, lr policy:  0.0001:  54%|█████▍    | 27000/50000 [02:45<02:10, 176.48it/s]\u001b[A\n",
            "eval cumulative reward:  268.4128 (init:  101.5317), eval step-count: 28, average reward= 9.2898 (init= 9.0900), step count (max): 60, lr policy:  0.0001:  54%|█████▍    | 27000/50000 [02:45<02:10, 176.48it/s]\u001b[A\n",
            "eval cumulative reward:  268.4128 (init:  101.5317), eval step-count: 28, average reward= 9.2898 (init= 9.0900), step count (max): 60, lr policy:  0.0001:  56%|█████▌    | 28000/50000 [02:50<02:03, 177.80it/s]\u001b[A\n",
            "eval cumulative reward:  268.4128 (init:  101.5317), eval step-count: 28, average reward= 9.2989 (init= 9.0900), step count (max): 76, lr policy:  0.0001:  56%|█████▌    | 28000/50000 [02:50<02:03, 177.80it/s]\u001b[A\n",
            "eval cumulative reward:  268.4128 (init:  101.5317), eval step-count: 28, average reward= 9.2989 (init= 9.0900), step count (max): 76, lr policy:  0.0001:  58%|█████▊    | 29000/50000 [02:55<01:55, 181.19it/s]\u001b[A\n",
            "eval cumulative reward:  268.4128 (init:  101.5317), eval step-count: 28, average reward= 9.3034 (init= 9.0900), step count (max): 102, lr policy:  0.0001:  58%|█████▊    | 29000/50000 [02:55<01:55, 181.19it/s]\u001b[A\n",
            "eval cumulative reward:  268.4128 (init:  101.5317), eval step-count: 28, average reward= 9.3034 (init= 9.0900), step count (max): 102, lr policy:  0.0001:  60%|██████    | 30000/50000 [03:02<01:53, 176.24it/s]\u001b[A\n",
            "eval cumulative reward:  268.4128 (init:  101.5317), eval step-count: 28, average reward= 9.2905 (init= 9.0900), step count (max): 122, lr policy:  0.0001:  60%|██████    | 30000/50000 [03:02<01:53, 176.24it/s]\u001b[A\n",
            "eval cumulative reward:  268.4128 (init:  101.5317), eval step-count: 28, average reward= 9.2905 (init= 9.0900), step count (max): 122, lr policy:  0.0001:  62%|██████▏   | 31000/50000 [03:07<01:46, 179.22it/s]\u001b[A\n",
            "eval cumulative reward:  728.0924 (init:  101.5317), eval step-count: 77, average reward= 9.2900 (init= 9.0900), step count (max): 73, lr policy:  0.0001:  62%|██████▏   | 31000/50000 [03:07<01:46, 179.22it/s] \u001b[A\n",
            "eval cumulative reward:  728.0924 (init:  101.5317), eval step-count: 77, average reward= 9.2900 (init= 9.0900), step count (max): 73, lr policy:  0.0001:  64%|██████▍   | 32000/50000 [03:13<01:44, 172.00it/s]\u001b[A\n",
            "eval cumulative reward:  728.0924 (init:  101.5317), eval step-count: 77, average reward= 9.2905 (init= 9.0900), step count (max): 69, lr policy:  0.0001:  64%|██████▍   | 32000/50000 [03:13<01:44, 172.00it/s]\u001b[A\n",
            "eval cumulative reward:  728.0924 (init:  101.5317), eval step-count: 77, average reward= 9.2905 (init= 9.0900), step count (max): 69, lr policy:  0.0001:  66%|██████▌   | 33000/50000 [03:19<01:36, 175.82it/s]\u001b[A\n",
            "eval cumulative reward:  728.0924 (init:  101.5317), eval step-count: 77, average reward= 9.2894 (init= 9.0900), step count (max): 81, lr policy:  0.0001:  66%|██████▌   | 33000/50000 [03:19<01:36, 175.82it/s]\u001b[A\n",
            "eval cumulative reward:  728.0924 (init:  101.5317), eval step-count: 77, average reward= 9.2894 (init= 9.0900), step count (max): 81, lr policy:  0.0001:  68%|██████▊   | 34000/50000 [03:25<01:32, 172.58it/s]\u001b[A\n",
            "eval cumulative reward:  728.0924 (init:  101.5317), eval step-count: 77, average reward= 9.3141 (init= 9.0900), step count (max): 172, lr policy:  0.0001:  68%|██████▊   | 34000/50000 [03:25<01:32, 172.58it/s]\u001b[A\n",
            "eval cumulative reward:  728.0924 (init:  101.5317), eval step-count: 77, average reward= 9.3141 (init= 9.0900), step count (max): 172, lr policy:  0.0001:  70%|███████   | 35000/50000 [03:30<01:24, 176.88it/s]\u001b[A\n",
            "eval cumulative reward:  728.0924 (init:  101.5317), eval step-count: 77, average reward= 9.2985 (init= 9.0900), step count (max): 100, lr policy:  0.0001:  70%|███████   | 35000/50000 [03:30<01:24, 176.88it/s]\u001b[A\n",
            "eval cumulative reward:  728.0924 (init:  101.5317), eval step-count: 77, average reward= 9.2985 (init= 9.0900), step count (max): 100, lr policy:  0.0001:  72%|███████▏  | 36000/50000 [03:36<01:21, 171.54it/s]\u001b[A\n",
            "eval cumulative reward:  728.0924 (init:  101.5317), eval step-count: 77, average reward= 9.3042 (init= 9.0900), step count (max): 132, lr policy:  0.0001:  72%|███████▏  | 36000/50000 [03:36<01:21, 171.54it/s]\u001b[A\n",
            "eval cumulative reward:  728.0924 (init:  101.5317), eval step-count: 77, average reward= 9.3042 (init= 9.0900), step count (max): 132, lr policy:  0.0001:  74%|███████▍  | 37000/50000 [03:42<01:14, 175.26it/s]\u001b[A\n",
            "eval cumulative reward:  728.0924 (init:  101.5317), eval step-count: 77, average reward= 9.3231 (init= 9.0900), step count (max): 134, lr policy:  0.0001:  74%|███████▍  | 37000/50000 [03:42<01:14, 175.26it/s]\u001b[A\n",
            "eval cumulative reward:  728.0924 (init:  101.5317), eval step-count: 77, average reward= 9.3231 (init= 9.0900), step count (max): 134, lr policy:  0.0001:  76%|███████▌  | 38000/50000 [03:48<01:10, 171.27it/s]\u001b[A\n",
            "eval cumulative reward:  728.0924 (init:  101.5317), eval step-count: 77, average reward= 9.3206 (init= 9.0900), step count (max): 318, lr policy:  0.0000:  76%|███████▌  | 38000/50000 [03:48<01:10, 171.27it/s]\u001b[A\n",
            "eval cumulative reward:  728.0924 (init:  101.5317), eval step-count: 77, average reward= 9.3206 (init= 9.0900), step count (max): 318, lr policy:  0.0000:  78%|███████▊  | 39000/50000 [03:53<01:02, 175.38it/s]\u001b[A\n",
            "eval cumulative reward:  728.0924 (init:  101.5317), eval step-count: 77, average reward= 9.3188 (init= 9.0900), step count (max): 140, lr policy:  0.0000:  78%|███████▊  | 39000/50000 [03:53<01:02, 175.38it/s]\u001b[A\n",
            "eval cumulative reward:  728.0924 (init:  101.5317), eval step-count: 77, average reward= 9.3188 (init= 9.0900), step count (max): 140, lr policy:  0.0000:  80%|████████  | 40000/50000 [03:59<00:57, 175.07it/s]\u001b[A\n",
            "eval cumulative reward:  728.0924 (init:  101.5317), eval step-count: 77, average reward= 9.3215 (init= 9.0900), step count (max): 213, lr policy:  0.0000:  80%|████████  | 40000/50000 [03:59<00:57, 175.07it/s]\u001b[A\n",
            "eval cumulative reward:  728.0924 (init:  101.5317), eval step-count: 77, average reward= 9.3215 (init= 9.0900), step count (max): 213, lr policy:  0.0000:  82%|████████▏ | 41000/50000 [04:05<00:51, 174.13it/s]\u001b[A\n",
            "eval cumulative reward:  1279.0386 (init:  101.5317), eval step-count: 136, average reward= 9.3331 (init= 9.0900), step count (max): 205, lr policy:  0.0000:  82%|████████▏ | 41000/50000 [04:05<00:51, 174.13it/s]\u001b[A\n",
            "eval cumulative reward:  1279.0386 (init:  101.5317), eval step-count: 136, average reward= 9.3331 (init= 9.0900), step count (max): 205, lr policy:  0.0000:  84%|████████▍ | 42000/50000 [04:11<00:46, 170.87it/s]\u001b[A\n",
            "eval cumulative reward:  1279.0386 (init:  101.5317), eval step-count: 136, average reward= 9.3353 (init= 9.0900), step count (max): 366, lr policy:  0.0000:  84%|████████▍ | 42000/50000 [04:11<00:46, 170.87it/s]\u001b[A\n",
            "eval cumulative reward:  1279.0386 (init:  101.5317), eval step-count: 136, average reward= 9.3353 (init= 9.0900), step count (max): 366, lr policy:  0.0000:  86%|████████▌ | 43000/50000 [04:17<00:41, 169.49it/s]\u001b[A\n",
            "eval cumulative reward:  1279.0386 (init:  101.5317), eval step-count: 136, average reward= 9.3428 (init= 9.0900), step count (max): 372, lr policy:  0.0000:  86%|████████▌ | 43000/50000 [04:17<00:41, 169.49it/s]\u001b[A\n",
            "eval cumulative reward:  1279.0386 (init:  101.5317), eval step-count: 136, average reward= 9.3428 (init= 9.0900), step count (max): 372, lr policy:  0.0000:  88%|████████▊ | 44000/50000 [04:22<00:34, 173.82it/s]\u001b[A\n",
            "eval cumulative reward:  1279.0386 (init:  101.5317), eval step-count: 136, average reward= 9.3377 (init= 9.0900), step count (max): 528, lr policy:  0.0000:  88%|████████▊ | 44000/50000 [04:22<00:34, 173.82it/s]\u001b[A\n",
            "eval cumulative reward:  1279.0386 (init:  101.5317), eval step-count: 136, average reward= 9.3377 (init= 9.0900), step count (max): 528, lr policy:  0.0000:  90%|█████████ | 45000/50000 [04:28<00:29, 170.86it/s]\u001b[A\n",
            "eval cumulative reward:  1279.0386 (init:  101.5317), eval step-count: 136, average reward= 9.3393 (init= 9.0900), step count (max): 423, lr policy:  0.0000:  90%|█████████ | 45000/50000 [04:28<00:29, 170.86it/s]\u001b[A\n",
            "eval cumulative reward:  1279.0386 (init:  101.5317), eval step-count: 136, average reward= 9.3393 (init= 9.0900), step count (max): 423, lr policy:  0.0000:  92%|█████████▏| 46000/50000 [04:34<00:23, 172.95it/s]\u001b[A\n",
            "eval cumulative reward:  1279.0386 (init:  101.5317), eval step-count: 136, average reward= 9.3330 (init= 9.0900), step count (max): 403, lr policy:  0.0000:  92%|█████████▏| 46000/50000 [04:34<00:23, 172.95it/s]\u001b[A\n",
            "eval cumulative reward:  1279.0386 (init:  101.5317), eval step-count: 136, average reward= 9.3330 (init= 9.0900), step count (max): 403, lr policy:  0.0000:  94%|█████████▍| 47000/50000 [04:40<00:17, 169.44it/s]\u001b[A\n",
            "eval cumulative reward:  1279.0386 (init:  101.5317), eval step-count: 136, average reward= 9.3328 (init= 9.0900), step count (max): 292, lr policy:  0.0000:  94%|█████████▍| 47000/50000 [04:40<00:17, 169.44it/s]\u001b[A\n",
            "eval cumulative reward:  1279.0386 (init:  101.5317), eval step-count: 136, average reward= 9.3328 (init= 9.0900), step count (max): 292, lr policy:  0.0000:  96%|█████████▌| 48000/50000 [04:46<00:11, 173.17it/s]\u001b[A\n",
            "eval cumulative reward:  1279.0386 (init:  101.5317), eval step-count: 136, average reward= 9.3226 (init= 9.0900), step count (max): 398, lr policy:  0.0000:  96%|█████████▌| 48000/50000 [04:46<00:11, 173.17it/s]\u001b[A\n",
            "eval cumulative reward:  1279.0386 (init:  101.5317), eval step-count: 136, average reward= 9.3226 (init= 9.0900), step count (max): 398, lr policy:  0.0000:  98%|█████████▊| 49000/50000 [04:52<00:05, 169.73it/s]\u001b[A\n",
            "eval cumulative reward:  1279.0386 (init:  101.5317), eval step-count: 136, average reward= 9.3335 (init= 9.0900), step count (max): 225, lr policy:  0.0000:  98%|█████████▊| 49000/50000 [04:52<00:05, 169.73it/s]\u001b[A\n",
            "eval cumulative reward:  1279.0386 (init:  101.5317), eval step-count: 136, average reward= 9.3335 (init= 9.0900), step count (max): 225, lr policy:  0.0000: 100%|██████████| 50000/50000 [04:57<00:00, 174.15it/s]\u001b[A\n",
            "eval cumulative reward:  1279.0386 (init:  101.5317), eval step-count: 136, average reward= 9.3407 (init= 9.0900), step count (max): 634, lr policy:  0.0000: 100%|██████████| 50000/50000 [04:57<00:00, 174.15it/s]\u001b[A"
          ]
        }
      ]
    },
    {
      "cell_type": "code",
      "source": [
        "plt.figure(figsize=(10, 10))\n",
        "plt.subplot(2, 2, 1)\n",
        "plt.plot(logs[\"reward\"])\n",
        "plt.title(\"training rewards (average)\")\n",
        "plt.subplot(2, 2, 2)\n",
        "plt.plot(logs[\"step_count\"])\n",
        "plt.title(\"Max step count (training)\")\n",
        "plt.subplot(2, 2, 3)\n",
        "plt.plot(logs[\"eval reward (sum)\"])\n",
        "plt.title(\"Return (test)\")\n",
        "plt.subplot(2, 2, 4)\n",
        "plt.plot(logs[\"eval step_count\"])\n",
        "plt.title(\"Max step count (test)\")\n",
        "plt.show()"
      ],
      "metadata": {
        "colab": {
          "base_uri": "https://localhost:8080/",
          "height": 844
        },
        "id": "yoUNwu1wD_Y-",
        "outputId": "dcf1b1df-71ef-435f-c7d3-02240bf285bb"
      },
      "execution_count": 44,
      "outputs": [
        {
          "output_type": "display_data",
          "data": {
            "text/plain": [
              "<Figure size 1000x1000 with 4 Axes>"
            ],
            "image/png": "[encoded data removed]"
          },
          "metadata": {}
        }
      ]
    },
    {
      "cell_type": "code",
      "source": [],
      "metadata": {
        "id": "hXRZbcuwEGPC"
      },
      "execution_count": null,
      "outputs": []
    }
  ],
  "metadata": {
    "accelerator": "GPU",
    "colab": {
      "provenance": []
    },
    "kernelspec": {
      "display_name": "Python 3",
      "name": "python3"
    },
    "language_info": {
      "name": "python"
    }
  },
  "nbformat": 4,
  "nbformat_minor": 0
}